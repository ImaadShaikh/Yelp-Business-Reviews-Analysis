{
 "cells": [
  {
   "cell_type": "code",
   "execution_count": 4,
   "id": "e5b06d47",
   "metadata": {},
   "outputs": [
    {
     "name": "stdout",
     "output_type": "stream",
     "text": [
      "Total lines: 6990280, Lines per file: 699028\n",
      "✅ JSON file successfully split into smaller parts!\n"
     ]
    }
   ],
   "source": [
    "import json\n",
    "\n",
    "input_file = \"yelp_academic_dataset_review.json\"  # Your 5GB JSON file\n",
    "output_prefix = \"split_file_\"  # Prefix for output files\n",
    "num_files = 10  # Number of files to split into\n",
    "\n",
    "# Count total lines (objects) in the file\n",
    "with open(input_file, \"r\" , encoding=\"utf8\") as f:\n",
    "    total_lines = sum(1 for _ in f)  \n",
    "\n",
    "lines_per_file = total_lines // num_files  # Lines per split file\n",
    "\n",
    "print(f\"Total lines: {total_lines}, Lines per file: {lines_per_file}\")\n",
    "\n",
    "# Now split into multiple smaller files\n",
    "with open(input_file, \"r\" , encoding=\"utf8\") as f:\n",
    "    for i in range(num_files):\n",
    "        output_filename = f\"{output_prefix}{i+1}.json\"\n",
    "        \n",
    "        with open(output_filename, \"w\", encoding=\"utf8\" ) as out_file:\n",
    "            for j in range(lines_per_file):\n",
    "                line = f.readline()\n",
    "                if not line:\n",
    "                    break  # Stop if file ends early\n",
    "                out_file.write(line)\n",
    "\n",
    "print(\"✅ JSON file successfully split into smaller parts!\")"
   ]
  },
  {
   "cell_type": "code",
   "execution_count": 5,
   "id": "45f9efbf",
   "metadata": {},
   "outputs": [
    {
     "name": "stdout",
     "output_type": "stream",
     "text": [
      "✅ File split into 22 parts.\n"
     ]
    }
   ],
   "source": [
    "import os\n",
    "\n",
    "input_path = \"yelp_academic_dataset_review.json\"\n",
    "output_prefix = \"split_\"\n",
    "max_size_bytes = 240 * 1024 * 1024  # 240MB limit for safety\n",
    "\n",
    "def split_large_json_file(input_path, output_prefix, max_size_bytes):\n",
    "    part = 1\n",
    "    output_path = f\"{output_prefix}{part}.json\"\n",
    "    out_file = open(output_path, \"w\", encoding=\"utf-8\")\n",
    "    current_size = 0\n",
    "\n",
    "    with open(input_path, \"r\", encoding=\"utf-8\") as f:\n",
    "        for line in f:\n",
    "            encoded_line = line.encode(\"utf-8\")\n",
    "            if current_size + len(encoded_line) > max_size_bytes:\n",
    "                out_file.close()\n",
    "                part += 1\n",
    "                output_path = f\"{output_prefix}{part}.json\"\n",
    "                out_file = open(output_path, \"w\", encoding=\"utf-8\")\n",
    "                current_size = 0\n",
    "\n",
    "            out_file.write(line)\n",
    "            current_size += len(encoded_line)\n",
    "\n",
    "    out_file.close()\n",
    "    print(f\"✅ File split into {part} parts.\")\n",
    "\n",
    "split_large_json_file(input_path, output_prefix, max_size_bytes)\n"
   ]
  }
 ],
 "metadata": {
  "kernelspec": {
   "display_name": "Python 3 (ipykernel)",
   "language": "python",
   "name": "python3"
  },
  "language_info": {
   "codemirror_mode": {
    "name": "ipython",
    "version": 3
   },
   "file_extension": ".py",
   "mimetype": "text/x-python",
   "name": "python",
   "nbconvert_exporter": "python",
   "pygments_lexer": "ipython3",
   "version": "3.11.4"
  }
 },
 "nbformat": 4,
 "nbformat_minor": 5
}
